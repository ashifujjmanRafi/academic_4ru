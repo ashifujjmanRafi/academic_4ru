{
 "cells": [
  {
   "cell_type": "code",
   "execution_count": 1,
   "metadata": {},
   "outputs": [],
   "source": [
    "import numpy as np\n",
    "import matplotlib.pyplot as plt\n",
    "from sklearn.metrics import r2_score"
   ]
  },
  {
   "cell_type": "code",
   "execution_count": 4,
   "metadata": {},
   "outputs": [],
   "source": [
    "x = np.random.normal(3,1,100)\n",
    "y = np.random.normal(150,40,100)/x"
   ]
  },
  {
   "cell_type": "code",
   "execution_count": 10,
   "metadata": {},
   "outputs": [],
   "source": [
    "trainx = x[:80]\n",
    "trainy = y[:80]\n",
    "testx = x[80:]\n",
    "testy = y[80:]"
   ]
  },
  {
   "cell_type": "code",
   "execution_count": 11,
   "metadata": {},
   "outputs": [
    {
     "name": "stdout",
     "output_type": "stream",
     "text": [
      "0.9954222447735809\n"
     ]
    }
   ],
   "source": [
    "#last 4 means degree of polynomial\n",
    "model = np.poly1d(np.polyfit(trainx,trainy,4))\n",
    "print(r2_score(trainy,model(trainx)))"
   ]
  },
  {
   "cell_type": "code",
   "execution_count": 12,
   "metadata": {},
   "outputs": [
    {
     "name": "stdout",
     "output_type": "stream",
     "text": [
      "18.27379658864629\n"
     ]
    }
   ],
   "source": [
    "print(model(5))"
   ]
  },
  {
   "cell_type": "code",
   "execution_count": 18,
   "metadata": {
    "scrolled": true
   },
   "outputs": [
    {
     "name": "stdout",
     "output_type": "stream",
     "text": [
      "[ 1.88626748e+01  6.14144623e+01 -9.62024589e-01  7.55625562e+01\n",
      " -1.36116447e+01 -4.64997526e+00  2.55191370e+01 -2.05756888e+00\n",
      "  1.82402164e+01  8.34937035e+00  8.91371433e+00 -1.46575891e+01\n",
      "  2.16065425e+00  9.28793488e+00  1.03975181e+01 -2.58492746e+01\n",
      " -1.78310766e+01  6.33901443e+01 -1.19064376e+01  3.77071874e+03]\n"
     ]
    }
   ],
   "source": [
    "#error finding\n",
    "arr = []\n",
    "for i in testx:\n",
    "    arr.append(model(i))\n",
    "arr = arr - testy\n",
    "print(arr)\n"
   ]
  },
  {
   "cell_type": "code",
   "execution_count": null,
   "metadata": {},
   "outputs": [],
   "source": []
  }
 ],
 "metadata": {
  "kernelspec": {
   "display_name": "Python 3",
   "language": "python",
   "name": "python3"
  },
  "language_info": {
   "codemirror_mode": {
    "name": "ipython",
    "version": 3
   },
   "file_extension": ".py",
   "mimetype": "text/x-python",
   "name": "python",
   "nbconvert_exporter": "python",
   "pygments_lexer": "ipython3",
   "version": "3.8.10"
  }
 },
 "nbformat": 4,
 "nbformat_minor": 4
}
