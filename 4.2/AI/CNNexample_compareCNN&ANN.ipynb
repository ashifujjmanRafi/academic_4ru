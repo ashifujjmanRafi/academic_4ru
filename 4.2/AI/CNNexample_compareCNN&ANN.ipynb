{
  "cells": [
    {
      "cell_type": "code",
      "execution_count": null,
      "metadata": {
        "id": "5UpEzxbhMdpa"
      },
      "outputs": [],
      "source": [
        "import tensorflow as tf\n",
        "from tensorflow import keras\n",
        "from keras.preprocessing.image import ImageDataGenerator\n"
      ]
    },
    {
      "cell_type": "markdown",
      "metadata": {
        "id": "VBuKmvbtR9Nx"
      },
      "source": [
        "# Load the MNIST dataset"
      ]
    },
    {
      "cell_type": "code",
      "execution_count": null,
      "metadata": {
        "colab": {
          "base_uri": "https://localhost:8080/"
        },
        "id": "FHAEoD3dRWXC",
        "outputId": "e1e7ad51-4f8b-4dc3-c375-e032851f6914"
      },
      "outputs": [
        {
          "name": "stdout",
          "output_type": "stream",
          "text": [
            "Downloading data from https://storage.googleapis.com/tensorflow/tf-keras-datasets/mnist.npz\n",
            "11490434/11490434 [==============================] - 0s 0us/step\n"
          ]
        }
      ],
      "source": [
        "(x_train,y_train),(x_test,y_test) = keras.datasets.mnist.load_data()\n",
        "x_train = x_train/255.0\n",
        "x_test = x_test/255.0\n"
      ]
    },
    {
      "cell_type": "markdown",
      "metadata": {
        "id": "q1y8U0WmAoV9"
      },
      "source": [
        "# **Data Augmentation function**"
      ]
    },
    {
      "cell_type": "code",
      "execution_count": null,
      "metadata": {
        "id": "oPlsk2vrAxSJ"
      },
      "outputs": [],
      "source": [
        "datagen = ImageDataGenerator(\n",
        "    rotation_range = 10,\n",
        "    zoom_range = 0.1,\n",
        "    width_shift_range = 0.1,\n",
        "    height_shift_range= 0.1,\n",
        ")"
      ]
    },
    {
      "cell_type": "markdown",
      "metadata": {
        "id": "C31nezRmReFS"
      },
      "source": [
        "# Reshape the tainging and testing data and augmentation"
      ]
    },
    {
      "cell_type": "code",
      "execution_count": null,
      "metadata": {
        "id": "KBHp-JhNRhcO"
      },
      "outputs": [],
      "source": [
        "datagen.fit(x_train.reshape((-1,28,28,1)))\n",
        "augmented_train = datagen.flow(x_train.reshape((-1,28,28,1)),y_train, batch_size=32)\n",
        "\n",
        "datagen.fit(x_test.reshape((-1,28,28,1)))\n",
        "augmented_test = datagen.flow(x_test.reshape((-1,28,28,1)),y_test,batch_size = 32)"
      ]
    },
    {
      "cell_type": "markdown",
      "metadata": {
        "id": "eR-ASFdgRlPA"
      },
      "source": [
        "# **Create the CNN model and Compilation**\n",
        "\n",
        "1.   Two convo2d layer with (3,3) filter,and maxpolling (2,2), for feature extraction \n",
        "2.   Two dense layer with 64 and 10 neuron,**for classification**\n"
      ]
    },
    {
      "cell_type": "code",
      "execution_count": null,
      "metadata": {
        "id": "OP1KWwWwRkzI"
      },
      "outputs": [],
      "source": [
        "from keras.layers.serialization import activation\n",
        "model = keras.Sequential([\n",
        "    #feature extraction part\n",
        "    keras.layers.Conv2D(32,(3,3),activation='relu',padding='same',input_shape=(28,28,1)),\n",
        "    keras.layers.MaxPooling2D((2,2)),\n",
        "    keras.layers.Conv2D(64,(3,3),padding='same',activation='relu'),\n",
        "    keras.layers.MaxPooling2D((2,2)),\n",
        "    \n",
        "    #classification part\n",
        "    keras.layers.Flatten(),\n",
        "    keras.layers.Dense(128,activation='relu'),#hidden layer with 128 neurons\n",
        "    keras.layers.Dense(64,activation='relu'),#hidden layer with 64 neurons\n",
        "    keras.layers.Dense(32,activation='relu'),#hidden layer with 32 neurons\n",
        "    keras.layers.Dense(10,activation='softmax')#output layer with 10 neurons\n",
        "    ])\n",
        "\n",
        "\n",
        "model.compile(\n",
        "    optimizer = 'adam',\n",
        "    loss = 'sparse_categorical_crossentropy',\n",
        "    metrics=['accuracy']\n",
        ")"
      ]
    },
    {
      "cell_type": "markdown",
      "metadata": {
        "id": "nW4ZHO1y7UZB"
      },
      "source": [
        "# **Create the ANN model and Compilation**\n"
      ]
    },
    {
      "cell_type": "code",
      "execution_count": 14,
      "metadata": {
        "id": "lkn16KQk7T9n"
      },
      "outputs": [],
      "source": [
        "model2 = keras.Sequential([\n",
        "    keras.layers.Flatten(input_shape=(28,28)),#input layer\n",
        "    keras.layers.Dense(128,activation='relu'),#hidden layer with 128 neurons\n",
        "    keras.layers.Dense(64,activation='relu'),#hidden layer with 64 neurons\n",
        "    keras.layers.Dense(32,activation='relu'),#hidden layer with 32 neurons\n",
        "    keras.layers.Dense(10,activation='softmax')#output layer with 10 neurons\n",
        "])\n",
        "\n",
        "model2.compile( #model compilation\n",
        "    optimizer = 'adam',\n",
        "    loss='sparse_categorical_crossentropy',\n",
        "    metrics = ['accuracy']\n",
        ")"
      ]
    },
    {
      "cell_type": "markdown",
      "metadata": {
        "id": "Qa4axhRNSBD-"
      },
      "source": [
        "# Train the CNN models"
      ]
    },
    {
      "cell_type": "code",
      "execution_count": null,
      "metadata": {
        "colab": {
          "base_uri": "https://localhost:8080/"
        },
        "id": "GXUv8FqDSCvU",
        "outputId": "59ca052e-554a-48f1-afd9-ff4ffc4139a9"
      },
      "outputs": [
        {
          "name": "stdout",
          "output_type": "stream",
          "text": [
            "Epoch 1/20\n",
            "1875/1875 [==============================] - 41s 15ms/step - loss: 0.2700 - accuracy: 0.9132\n",
            "Epoch 2/20\n",
            "1875/1875 [==============================] - 27s 14ms/step - loss: 0.0941 - accuracy: 0.9715\n",
            "Epoch 3/20\n",
            "1875/1875 [==============================] - 28s 15ms/step - loss: 0.0707 - accuracy: 0.9781\n",
            "Epoch 4/20\n",
            "1875/1875 [==============================] - 25s 13ms/step - loss: 0.0597 - accuracy: 0.9817\n",
            "Epoch 5/20\n",
            "1875/1875 [==============================] - 25s 14ms/step - loss: 0.0511 - accuracy: 0.9840\n",
            "Epoch 6/20\n",
            "1875/1875 [==============================] - 26s 14ms/step - loss: 0.0491 - accuracy: 0.9854\n",
            "Epoch 7/20\n",
            "1875/1875 [==============================] - 25s 13ms/step - loss: 0.0430 - accuracy: 0.9873\n",
            "Epoch 8/20\n",
            "1875/1875 [==============================] - 26s 14ms/step - loss: 0.0405 - accuracy: 0.9874\n",
            "Epoch 9/20\n",
            "1875/1875 [==============================] - 25s 14ms/step - loss: 0.0386 - accuracy: 0.9883\n",
            "Epoch 10/20\n",
            "1875/1875 [==============================] - 26s 14ms/step - loss: 0.0361 - accuracy: 0.9890\n",
            "Epoch 11/20\n",
            "1875/1875 [==============================] - 28s 15ms/step - loss: 0.0327 - accuracy: 0.9900\n",
            "Epoch 12/20\n",
            "1875/1875 [==============================] - 28s 15ms/step - loss: 0.0320 - accuracy: 0.9899\n",
            "Epoch 13/20\n",
            "1875/1875 [==============================] - 27s 14ms/step - loss: 0.0317 - accuracy: 0.9906\n",
            "Epoch 14/20\n",
            "1875/1875 [==============================] - 27s 14ms/step - loss: 0.0307 - accuracy: 0.9910\n",
            "Epoch 15/20\n",
            "1875/1875 [==============================] - 27s 15ms/step - loss: 0.0296 - accuracy: 0.9910\n",
            "Epoch 16/20\n",
            "1875/1875 [==============================] - 27s 15ms/step - loss: 0.0278 - accuracy: 0.9919\n",
            "Epoch 17/20\n",
            "1875/1875 [==============================] - 27s 14ms/step - loss: 0.0289 - accuracy: 0.9916\n",
            "Epoch 18/20\n",
            "1875/1875 [==============================] - 26s 14ms/step - loss: 0.0260 - accuracy: 0.9921\n",
            "Epoch 19/20\n",
            "1875/1875 [==============================] - 27s 14ms/step - loss: 0.0267 - accuracy: 0.9917\n",
            "Epoch 20/20\n",
            "1875/1875 [==============================] - 26s 14ms/step - loss: 0.0247 - accuracy: 0.9929\n"
          ]
        },
        {
          "data": {
            "text/plain": [
              "<keras.callbacks.History at 0x7f5250438820>"
            ]
          },
          "execution_count": 7,
          "metadata": {},
          "output_type": "execute_result"
        }
      ],
      "source": [
        "model.fit(augmented_train,epochs=20)"
      ]
    },
    {
      "cell_type": "code",
      "execution_count": null,
      "metadata": {
        "colab": {
          "background_save": true
        },
        "id": "zj8_fjT8SjHr",
        "outputId": "727270e9-1d1a-4b41-b154-07d35b64d3b7"
      },
      "outputs": [
        {
          "name": "stdout",
          "output_type": "stream",
          "text": [
            "Model: \"sequential\"\n",
            "_________________________________________________________________\n",
            " Layer (type)                Output Shape              Param #   \n",
            "=================================================================\n",
            " conv2d (Conv2D)             (None, 28, 28, 32)        320       \n",
            "                                                                 \n",
            " max_pooling2d (MaxPooling2D  (None, 14, 14, 32)       0         \n",
            " )                                                               \n",
            "                                                                 \n",
            " conv2d_1 (Conv2D)           (None, 14, 14, 64)        18496     \n",
            "                                                                 \n",
            " max_pooling2d_1 (MaxPooling  (None, 7, 7, 64)         0         \n",
            " 2D)                                                             \n",
            "                                                                 \n",
            " flatten (Flatten)           (None, 3136)              0         \n",
            "                                                                 \n",
            " dense (Dense)               (None, 128)               401536    \n",
            "                                                                 \n",
            " dense_1 (Dense)             (None, 64)                8256      \n",
            "                                                                 \n",
            " dense_2 (Dense)             (None, 32)                2080      \n",
            "                                                                 \n",
            " dense_3 (Dense)             (None, 10)                330       \n",
            "                                                                 \n",
            "=================================================================\n",
            "Total params: 431,018\n",
            "Trainable params: 431,018\n",
            "Non-trainable params: 0\n",
            "_________________________________________________________________\n"
          ]
        }
      ],
      "source": [
        "model.summary()"
      ]
    },
    {
      "cell_type": "markdown",
      "source": [
        "# Train the ANN model"
      ],
      "metadata": {
        "id": "SPECtn2AA_V1"
      }
    },
    {
      "cell_type": "code",
      "execution_count": 11,
      "metadata": {
        "colab": {
          "base_uri": "https://localhost:8080/"
        },
        "id": "BjU4FHNm7pNo",
        "outputId": "36afaa23-0884-441b-b086-8d1e6ef3fdac"
      },
      "outputs": [
        {
          "output_type": "stream",
          "name": "stdout",
          "text": [
            "Epoch 1/20\n",
            "1875/1875 [==============================] - 25s 14ms/step - loss: 0.0848 - accuracy: 0.9737\n",
            "Epoch 2/20\n",
            "1875/1875 [==============================] - 25s 14ms/step - loss: 0.0844 - accuracy: 0.9739\n",
            "Epoch 3/20\n",
            "1875/1875 [==============================] - 24s 13ms/step - loss: 0.0851 - accuracy: 0.9736\n",
            "Epoch 4/20\n",
            "1875/1875 [==============================] - 24s 13ms/step - loss: 0.0816 - accuracy: 0.9748\n",
            "Epoch 5/20\n",
            "1875/1875 [==============================] - 23s 13ms/step - loss: 0.0804 - accuracy: 0.9748\n",
            "Epoch 6/20\n",
            "1875/1875 [==============================] - 23s 12ms/step - loss: 0.0817 - accuracy: 0.9747\n",
            "Epoch 7/20\n",
            "1875/1875 [==============================] - 23s 12ms/step - loss: 0.0776 - accuracy: 0.9766\n",
            "Epoch 8/20\n",
            "1875/1875 [==============================] - 24s 13ms/step - loss: 0.0763 - accuracy: 0.9759\n",
            "Epoch 9/20\n",
            "1875/1875 [==============================] - 24s 13ms/step - loss: 0.0760 - accuracy: 0.9771\n",
            "Epoch 10/20\n",
            "1875/1875 [==============================] - 24s 13ms/step - loss: 0.0775 - accuracy: 0.9759\n",
            "Epoch 11/20\n",
            "1875/1875 [==============================] - 23s 12ms/step - loss: 0.0738 - accuracy: 0.9769\n",
            "Epoch 12/20\n",
            "1875/1875 [==============================] - 23s 12ms/step - loss: 0.0741 - accuracy: 0.9774\n",
            "Epoch 13/20\n",
            "1875/1875 [==============================] - 23s 12ms/step - loss: 0.0712 - accuracy: 0.9783\n",
            "Epoch 14/20\n",
            "1875/1875 [==============================] - 23s 12ms/step - loss: 0.0735 - accuracy: 0.9769\n",
            "Epoch 15/20\n",
            "1875/1875 [==============================] - 23s 12ms/step - loss: 0.0696 - accuracy: 0.9782\n",
            "Epoch 16/20\n",
            "1875/1875 [==============================] - 23s 12ms/step - loss: 0.0709 - accuracy: 0.9785\n",
            "Epoch 17/20\n",
            "1875/1875 [==============================] - 23s 12ms/step - loss: 0.0688 - accuracy: 0.9796\n",
            "Epoch 18/20\n",
            "1875/1875 [==============================] - 24s 13ms/step - loss: 0.0694 - accuracy: 0.9786\n",
            "Epoch 19/20\n",
            "1875/1875 [==============================] - 23s 12ms/step - loss: 0.0679 - accuracy: 0.9787\n",
            "Epoch 20/20\n",
            "1875/1875 [==============================] - 23s 12ms/step - loss: 0.0683 - accuracy: 0.9791\n"
          ]
        },
        {
          "output_type": "execute_result",
          "data": {
            "text/plain": [
              "<keras.callbacks.History at 0x7f530877fee0>"
            ]
          },
          "metadata": {},
          "execution_count": 11
        }
      ],
      "source": [
        "model2.fit(augmented_train,epochs=20)"
      ]
    },
    {
      "cell_type": "code",
      "source": [
        "model2.summary()"
      ],
      "metadata": {
        "colab": {
          "base_uri": "https://localhost:8080/"
        },
        "id": "NWZIx7-oEtQn",
        "outputId": "6a823d0d-1b2e-4e06-e42b-45c7ee01b504"
      },
      "execution_count": 13,
      "outputs": [
        {
          "output_type": "stream",
          "name": "stdout",
          "text": [
            "Model: \"sequential_1\"\n",
            "_________________________________________________________________\n",
            " Layer (type)                Output Shape              Param #   \n",
            "=================================================================\n",
            " flatten_1 (Flatten)         (None, 784)               0         \n",
            "                                                                 \n",
            " dense_4 (Dense)             (None, 128)               100480    \n",
            "                                                                 \n",
            " dense_5 (Dense)             (None, 64)                8256      \n",
            "                                                                 \n",
            " dense_6 (Dense)             (None, 32)                2080      \n",
            "                                                                 \n",
            " dense_7 (Dense)             (None, 10)                330       \n",
            "                                                                 \n",
            "=================================================================\n",
            "Total params: 111,146\n",
            "Trainable params: 111,146\n",
            "Non-trainable params: 0\n",
            "_________________________________________________________________\n"
          ]
        }
      ]
    },
    {
      "cell_type": "markdown",
      "metadata": {
        "id": "tK79HOfvSJHM"
      },
      "source": [
        "# Evaluation difference **ANN & CNN** \n"
      ]
    },
    {
      "cell_type": "code",
      "execution_count": 12,
      "metadata": {
        "colab": {
          "base_uri": "https://localhost:8080/"
        },
        "id": "8xI1DakTSIqc",
        "outputId": "cd861ac4-fcf4-4440-a91e-58fe8dfadff6"
      },
      "outputs": [
        {
          "output_type": "stream",
          "name": "stdout",
          "text": [
            "ANN model evaluation\n",
            "313/313 [==============================] - 4s 14ms/step - loss: 0.0739 - accuracy: 0.9765\n",
            "\n",
            "\n",
            "\n",
            "CNN model evaluation\n",
            "313/313 [==============================] - 3s 11ms/step - loss: 0.0307 - accuracy: 0.9913\n"
          ]
        },
        {
          "output_type": "execute_result",
          "data": {
            "text/plain": [
              "[0.03072679415345192, 0.9912999868392944]"
            ]
          },
          "metadata": {},
          "execution_count": 12
        }
      ],
      "source": [
        "\n",
        "print(\"ANN model evaluation\")\n",
        "model2.evaluate(augmented_test)\n",
        "print(\"\\n\\n\\nCNN model evaluation\")\n",
        "model.evaluate(augmented_test)"
      ]
    }
  ],
  "metadata": {
    "accelerator": "GPU",
    "colab": {
      "provenance": []
    },
    "gpuClass": "standard",
    "kernelspec": {
      "display_name": "Python 3",
      "name": "python3"
    },
    "language_info": {
      "name": "python"
    }
  },
  "nbformat": 4,
  "nbformat_minor": 0
}