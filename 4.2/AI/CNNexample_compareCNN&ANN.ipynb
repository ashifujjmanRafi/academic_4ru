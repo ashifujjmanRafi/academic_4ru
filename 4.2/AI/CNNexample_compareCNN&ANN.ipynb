{
  "cells": [
    {
      "cell_type": "code",
      "execution_count": 1,
      "metadata": {
        "id": "5UpEzxbhMdpa"
      },
      "outputs": [
        {
          "name": "stderr",
          "output_type": "stream",
          "text": [
            "2023-07-04 19:19:55.713902: I tensorflow/tsl/cuda/cudart_stub.cc:28] Could not find cuda drivers on your machine, GPU will not be used.\n",
            "2023-07-04 19:19:55.824694: I tensorflow/tsl/cuda/cudart_stub.cc:28] Could not find cuda drivers on your machine, GPU will not be used.\n",
            "2023-07-04 19:19:55.826843: I tensorflow/core/platform/cpu_feature_guard.cc:182] This TensorFlow binary is optimized to use available CPU instructions in performance-critical operations.\n",
            "To enable the following instructions: AVX2 FMA, in other operations, rebuild TensorFlow with the appropriate compiler flags.\n",
            "2023-07-04 19:19:57.827699: W tensorflow/compiler/tf2tensorrt/utils/py_utils.cc:38] TF-TRT Warning: Could not find TensorRT\n"
          ]
        }
      ],
      "source": [
        "import tensorflow as tf\n",
        "from tensorflow import keras\n",
        "from keras.preprocessing.image import ImageDataGenerator\n"
      ]
    },
    {
      "cell_type": "markdown",
      "metadata": {
        "id": "VBuKmvbtR9Nx"
      },
      "source": [
        "# Load the MNIST dataset"
      ]
    },
    {
      "cell_type": "code",
      "execution_count": 2,
      "metadata": {
        "colab": {
          "base_uri": "https://localhost:8080/"
        },
        "id": "FHAEoD3dRWXC",
        "outputId": "e1e7ad51-4f8b-4dc3-c375-e032851f6914"
      },
      "outputs": [
        {
          "name": "stdout",
          "output_type": "stream",
          "text": [
            "Downloading data from https://storage.googleapis.com/tensorflow/tf-keras-datasets/mnist.npz\n",
            "11490434/11490434 [==============================] - 8s 1us/step\n"
          ]
        }
      ],
      "source": [
        "(x_train,y_train),(x_test,y_test) = keras.datasets.mnist.load_data()\n",
        "x_train = x_train/255.0\n",
        "x_test = x_test/255.0\n"
      ]
    },
    {
      "cell_type": "markdown",
      "metadata": {
        "id": "q1y8U0WmAoV9"
      },
      "source": [
        "# **Data Augmentation function**"
      ]
    },
    {
      "cell_type": "code",
      "execution_count": 3,
      "metadata": {
        "id": "oPlsk2vrAxSJ"
      },
      "outputs": [],
      "source": [
        "datagen = ImageDataGenerator(\n",
        "    rotation_range = 10,\n",
        "    zoom_range = 0.1,\n",
        "    width_shift_range = 0.1,\n",
        "    height_shift_range= 0.1,\n",
        ")"
      ]
    },
    {
      "cell_type": "markdown",
      "metadata": {
        "id": "C31nezRmReFS"
      },
      "source": [
        "# Reshape the tainging and testing data and augmentation"
      ]
    },
    {
      "cell_type": "code",
      "execution_count": 4,
      "metadata": {
        "id": "KBHp-JhNRhcO"
      },
      "outputs": [],
      "source": [
        "datagen.fit(x_train.reshape((-1,28,28,1)))\n",
        "augmented_train = datagen.flow(x_train.reshape((-1,28,28,1)),y_train, batch_size=32)\n",
        "\n",
        "datagen.fit(x_test.reshape((-1,28,28,1)))\n",
        "augmented_test = datagen.flow(x_test.reshape((-1,28,28,1)),y_test,batch_size = 32)"
      ]
    },
    {
      "cell_type": "markdown",
      "metadata": {
        "id": "eR-ASFdgRlPA"
      },
      "source": [
        "# **Create the CNN model and Compilation**\n",
        "\n",
        "1.   Two convo2d layer with (3,3) filter,and maxpolling (2,2), for feature extraction \n",
        "2.   Two dense layer with 64 and 10 neuron,**for classification**\n"
      ]
    },
    {
      "cell_type": "code",
      "execution_count": 5,
      "metadata": {
        "id": "OP1KWwWwRkzI"
      },
      "outputs": [
        {
          "name": "stderr",
          "output_type": "stream",
          "text": [
            "2023-07-04 19:20:34.098496: E tensorflow/compiler/xla/stream_executor/cuda/cuda_driver.cc:266] failed call to cuInit: CUDA_ERROR_NO_DEVICE: no CUDA-capable device is detected\n",
            "2023-07-04 19:20:34.098647: I tensorflow/compiler/xla/stream_executor/cuda/cuda_diagnostics.cc:168] retrieving CUDA diagnostic information for host: rafz\n",
            "2023-07-04 19:20:34.098711: I tensorflow/compiler/xla/stream_executor/cuda/cuda_diagnostics.cc:175] hostname: rafz\n",
            "2023-07-04 19:20:34.098965: I tensorflow/compiler/xla/stream_executor/cuda/cuda_diagnostics.cc:199] libcuda reported version is: 525.125.6\n",
            "2023-07-04 19:20:34.099067: I tensorflow/compiler/xla/stream_executor/cuda/cuda_diagnostics.cc:203] kernel reported version is: 525.125.6\n",
            "2023-07-04 19:20:34.099090: I tensorflow/compiler/xla/stream_executor/cuda/cuda_diagnostics.cc:309] kernel version seems to match DSO: 525.125.6\n"
          ]
        }
      ],
      "source": [
        "from keras.layers.serialization import activation\n",
        "model = keras.Sequential([\n",
        "    #feature extraction part\n",
        "    keras.layers.Conv2D(32,(3,3),activation='relu',padding='same',input_shape=(28,28,1)),\n",
        "    keras.layers.MaxPooling2D((2,2)),\n",
        "    keras.layers.Conv2D(64,(3,3),padding='same',activation='relu'),\n",
        "    keras.layers.MaxPooling2D((2,2)),\n",
        "    \n",
        "    #classification part\n",
        "    keras.layers.Flatten(),\n",
        "    keras.layers.Dense(128,activation='relu'),#hidden layer with 128 neurons\n",
        "    keras.layers.Dense(64,activation='relu'),#hidden layer with 64 neurons\n",
        "    keras.layers.Dense(32,activation='relu'),#hidden layer with 32 neurons\n",
        "    keras.layers.Dense(10,activation='softmax')#output layer with 10 neurons\n",
        "    ])\n",
        "\n",
        "\n",
        "model.compile(\n",
        "    optimizer = 'adam',\n",
        "    loss = 'sparse_categorical_crossentropy',\n",
        "    metrics=['accuracy']\n",
        ")"
      ]
    },
    {
      "cell_type": "markdown",
      "metadata": {
        "id": "nW4ZHO1y7UZB"
      },
      "source": [
        "# **Create the ANN model and Compilation**\n"
      ]
    },
    {
      "cell_type": "code",
      "execution_count": 14,
      "metadata": {
        "id": "lkn16KQk7T9n"
      },
      "outputs": [],
      "source": [
        "model2 = keras.Sequential([\n",
        "    keras.layers.Flatten(input_shape=(28,28)),#input layer\n",
        "    keras.layers.Dense(128,activation='relu'),#hidden layer with 128 neurons\n",
        "    keras.layers.Dense(64,activation='relu'),#hidden layer with 64 neurons\n",
        "    keras.layers.Dense(32,activation='relu'),#hidden layer with 32 neurons\n",
        "    keras.layers.Dense(10,activation='softmax')#output layer with 10 neurons\n",
        "])\n",
        "\n",
        "model2.compile( #model compilation\n",
        "    optimizer = 'adam',\n",
        "    loss='sparse_categorical_crossentropy',\n",
        "    metrics = ['accuracy']\n",
        ")"
      ]
    },
    {
      "cell_type": "markdown",
      "metadata": {
        "id": "Qa4axhRNSBD-"
      },
      "source": [
        "# Train the CNN models"
      ]
    },
    {
      "cell_type": "code",
      "execution_count": 6,
      "metadata": {
        "colab": {
          "base_uri": "https://localhost:8080/"
        },
        "id": "GXUv8FqDSCvU",
        "outputId": "59ca052e-554a-48f1-afd9-ff4ffc4139a9"
      },
      "outputs": [
        {
          "name": "stdout",
          "output_type": "stream",
          "text": [
            "Epoch 1/20\n"
          ]
        },
        {
          "name": "stderr",
          "output_type": "stream",
          "text": [
            "2023-07-04 19:20:56.691038: I tensorflow/core/common_runtime/executor.cc:1197] [/device:CPU:0] (DEBUG INFO) Executor start aborting (this does not indicate an error and you can ignore this message): INVALID_ARGUMENT: You must feed a value for placeholder tensor 'Placeholder/_0' with dtype int32\n",
            "\t [[{{node Placeholder/_0}}]]\n"
          ]
        },
        {
          "name": "stdout",
          "output_type": "stream",
          "text": [
            "1875/1875 [==============================] - 67s 35ms/step - loss: 0.2555 - accuracy: 0.9182\n",
            "Epoch 2/20\n",
            "1875/1875 [==============================] - 64s 34ms/step - loss: 0.0914 - accuracy: 0.9721\n",
            "Epoch 3/20\n",
            "1875/1875 [==============================] - 64s 34ms/step - loss: 0.0682 - accuracy: 0.9794\n",
            "Epoch 4/20\n",
            "1875/1875 [==============================] - 64s 34ms/step - loss: 0.0572 - accuracy: 0.9817\n",
            "Epoch 5/20\n",
            "1875/1875 [==============================] - 72s 38ms/step - loss: 0.0512 - accuracy: 0.9841\n",
            "Epoch 6/20\n",
            "1875/1875 [==============================] - 65s 35ms/step - loss: 0.0472 - accuracy: 0.9859\n",
            "Epoch 7/20\n",
            "1875/1875 [==============================] - 56s 30ms/step - loss: 0.0416 - accuracy: 0.9876\n",
            "Epoch 8/20\n",
            "1875/1875 [==============================] - 57s 30ms/step - loss: 0.0396 - accuracy: 0.9877\n",
            "Epoch 9/20\n",
            "1875/1875 [==============================] - 55s 30ms/step - loss: 0.0367 - accuracy: 0.9887\n",
            "Epoch 10/20\n",
            "1875/1875 [==============================] - 55s 29ms/step - loss: 0.0352 - accuracy: 0.9896\n",
            "Epoch 11/20\n",
            "1875/1875 [==============================] - 62s 33ms/step - loss: 0.0339 - accuracy: 0.9897\n",
            "Epoch 12/20\n",
            "1875/1875 [==============================] - 60s 32ms/step - loss: 0.0332 - accuracy: 0.9900\n",
            "Epoch 13/20\n",
            "1875/1875 [==============================] - 58s 31ms/step - loss: 0.0304 - accuracy: 0.9907\n",
            "Epoch 14/20\n",
            "1875/1875 [==============================] - 57s 30ms/step - loss: 0.0296 - accuracy: 0.9909\n",
            "Epoch 15/20\n",
            "1875/1875 [==============================] - 56s 30ms/step - loss: 0.0285 - accuracy: 0.9918\n",
            "Epoch 16/20\n",
            "1875/1875 [==============================] - 54s 29ms/step - loss: 0.0265 - accuracy: 0.9918\n",
            "Epoch 17/20\n",
            "1875/1875 [==============================] - 54s 29ms/step - loss: 0.0272 - accuracy: 0.9918\n",
            "Epoch 18/20\n",
            "1875/1875 [==============================] - 55s 29ms/step - loss: 0.0269 - accuracy: 0.9916\n",
            "Epoch 19/20\n",
            "1875/1875 [==============================] - 56s 30ms/step - loss: 0.0250 - accuracy: 0.9921\n",
            "Epoch 20/20\n",
            "1875/1875 [==============================] - 56s 30ms/step - loss: 0.0231 - accuracy: 0.9931\n"
          ]
        },
        {
          "data": {
            "text/plain": [
              "<keras.callbacks.History at 0x7ff908dfb1c0>"
            ]
          },
          "execution_count": 6,
          "metadata": {},
          "output_type": "execute_result"
        }
      ],
      "source": [
        "model.fit(augmented_train,epochs=20)"
      ]
    },
    {
      "cell_type": "code",
      "execution_count": 7,
      "metadata": {
        "colab": {
          "background_save": true
        },
        "id": "zj8_fjT8SjHr",
        "outputId": "727270e9-1d1a-4b41-b154-07d35b64d3b7"
      },
      "outputs": [
        {
          "name": "stdout",
          "output_type": "stream",
          "text": [
            "Model: \"sequential\"\n",
            "_________________________________________________________________\n",
            " Layer (type)                Output Shape              Param #   \n",
            "=================================================================\n",
            " conv2d (Conv2D)             (None, 28, 28, 32)        320       \n",
            "                                                                 \n",
            " max_pooling2d (MaxPooling2D  (None, 14, 14, 32)       0         \n",
            " )                                                               \n",
            "                                                                 \n",
            " conv2d_1 (Conv2D)           (None, 14, 14, 64)        18496     \n",
            "                                                                 \n",
            " max_pooling2d_1 (MaxPooling  (None, 7, 7, 64)         0         \n",
            " 2D)                                                             \n",
            "                                                                 \n",
            " flatten (Flatten)           (None, 3136)              0         \n",
            "                                                                 \n",
            " dense (Dense)               (None, 128)               401536    \n",
            "                                                                 \n",
            " dense_1 (Dense)             (None, 64)                8256      \n",
            "                                                                 \n",
            " dense_2 (Dense)             (None, 32)                2080      \n",
            "                                                                 \n",
            " dense_3 (Dense)             (None, 10)                330       \n",
            "                                                                 \n",
            "=================================================================\n",
            "Total params: 431,018\n",
            "Trainable params: 431,018\n",
            "Non-trainable params: 0\n",
            "_________________________________________________________________\n"
          ]
        }
      ],
      "source": [
        "model.summary()"
      ]
    },
    {
      "cell_type": "markdown",
      "metadata": {
        "id": "SPECtn2AA_V1"
      },
      "source": [
        "# Train the ANN model"
      ]
    },
    {
      "cell_type": "code",
      "execution_count": 11,
      "metadata": {
        "colab": {
          "base_uri": "https://localhost:8080/"
        },
        "id": "BjU4FHNm7pNo",
        "outputId": "36afaa23-0884-441b-b086-8d1e6ef3fdac"
      },
      "outputs": [
        {
          "name": "stdout",
          "output_type": "stream",
          "text": [
            "Epoch 1/20\n",
            "1875/1875 [==============================] - 25s 14ms/step - loss: 0.0848 - accuracy: 0.9737\n",
            "Epoch 2/20\n",
            "1875/1875 [==============================] - 25s 14ms/step - loss: 0.0844 - accuracy: 0.9739\n",
            "Epoch 3/20\n",
            "1875/1875 [==============================] - 24s 13ms/step - loss: 0.0851 - accuracy: 0.9736\n",
            "Epoch 4/20\n",
            "1875/1875 [==============================] - 24s 13ms/step - loss: 0.0816 - accuracy: 0.9748\n",
            "Epoch 5/20\n",
            "1875/1875 [==============================] - 23s 13ms/step - loss: 0.0804 - accuracy: 0.9748\n",
            "Epoch 6/20\n",
            "1875/1875 [==============================] - 23s 12ms/step - loss: 0.0817 - accuracy: 0.9747\n",
            "Epoch 7/20\n",
            "1875/1875 [==============================] - 23s 12ms/step - loss: 0.0776 - accuracy: 0.9766\n",
            "Epoch 8/20\n",
            "1875/1875 [==============================] - 24s 13ms/step - loss: 0.0763 - accuracy: 0.9759\n",
            "Epoch 9/20\n",
            "1875/1875 [==============================] - 24s 13ms/step - loss: 0.0760 - accuracy: 0.9771\n",
            "Epoch 10/20\n",
            "1875/1875 [==============================] - 24s 13ms/step - loss: 0.0775 - accuracy: 0.9759\n",
            "Epoch 11/20\n",
            "1875/1875 [==============================] - 23s 12ms/step - loss: 0.0738 - accuracy: 0.9769\n",
            "Epoch 12/20\n",
            "1875/1875 [==============================] - 23s 12ms/step - loss: 0.0741 - accuracy: 0.9774\n",
            "Epoch 13/20\n",
            "1875/1875 [==============================] - 23s 12ms/step - loss: 0.0712 - accuracy: 0.9783\n",
            "Epoch 14/20\n",
            "1875/1875 [==============================] - 23s 12ms/step - loss: 0.0735 - accuracy: 0.9769\n",
            "Epoch 15/20\n",
            "1875/1875 [==============================] - 23s 12ms/step - loss: 0.0696 - accuracy: 0.9782\n",
            "Epoch 16/20\n",
            "1875/1875 [==============================] - 23s 12ms/step - loss: 0.0709 - accuracy: 0.9785\n",
            "Epoch 17/20\n",
            "1875/1875 [==============================] - 23s 12ms/step - loss: 0.0688 - accuracy: 0.9796\n",
            "Epoch 18/20\n",
            "1875/1875 [==============================] - 24s 13ms/step - loss: 0.0694 - accuracy: 0.9786\n",
            "Epoch 19/20\n",
            "1875/1875 [==============================] - 23s 12ms/step - loss: 0.0679 - accuracy: 0.9787\n",
            "Epoch 20/20\n",
            "1875/1875 [==============================] - 23s 12ms/step - loss: 0.0683 - accuracy: 0.9791\n"
          ]
        },
        {
          "data": {
            "text/plain": [
              "<keras.callbacks.History at 0x7f530877fee0>"
            ]
          },
          "execution_count": 11,
          "metadata": {},
          "output_type": "execute_result"
        }
      ],
      "source": [
        "model2.fit(augmented_train,epochs=20)"
      ]
    },
    {
      "cell_type": "code",
      "execution_count": 13,
      "metadata": {
        "colab": {
          "base_uri": "https://localhost:8080/"
        },
        "id": "NWZIx7-oEtQn",
        "outputId": "6a823d0d-1b2e-4e06-e42b-45c7ee01b504"
      },
      "outputs": [
        {
          "name": "stdout",
          "output_type": "stream",
          "text": [
            "Model: \"sequential_1\"\n",
            "_________________________________________________________________\n",
            " Layer (type)                Output Shape              Param #   \n",
            "=================================================================\n",
            " flatten_1 (Flatten)         (None, 784)               0         \n",
            "                                                                 \n",
            " dense_4 (Dense)             (None, 128)               100480    \n",
            "                                                                 \n",
            " dense_5 (Dense)             (None, 64)                8256      \n",
            "                                                                 \n",
            " dense_6 (Dense)             (None, 32)                2080      \n",
            "                                                                 \n",
            " dense_7 (Dense)             (None, 10)                330       \n",
            "                                                                 \n",
            "=================================================================\n",
            "Total params: 111,146\n",
            "Trainable params: 111,146\n",
            "Non-trainable params: 0\n",
            "_________________________________________________________________\n"
          ]
        }
      ],
      "source": [
        "model2.summary()"
      ]
    },
    {
      "cell_type": "markdown",
      "metadata": {
        "id": "tK79HOfvSJHM"
      },
      "source": [
        "# Evaluation difference **ANN & CNN** \n"
      ]
    },
    {
      "cell_type": "code",
      "execution_count": 9,
      "metadata": {
        "colab": {
          "base_uri": "https://localhost:8080/"
        },
        "id": "8xI1DakTSIqc",
        "outputId": "cd861ac4-fcf4-4440-a91e-58fe8dfadff6"
      },
      "outputs": [
        {
          "name": "stdout",
          "output_type": "stream",
          "text": [
            "\n",
            "\n",
            "\n",
            "CNN model evaluation\n"
          ]
        },
        {
          "name": "stderr",
          "output_type": "stream",
          "text": [
            "2023-07-04 19:46:26.041146: I tensorflow/core/common_runtime/executor.cc:1197] [/device:CPU:0] (DEBUG INFO) Executor start aborting (this does not indicate an error and you can ignore this message): INVALID_ARGUMENT: You must feed a value for placeholder tensor 'Placeholder/_0' with dtype int32\n",
            "\t [[{{node Placeholder/_0}}]]\n"
          ]
        },
        {
          "name": "stdout",
          "output_type": "stream",
          "text": [
            "313/313 [==============================] - 7s 21ms/step - loss: 0.0329 - accuracy: 0.9902\n"
          ]
        },
        {
          "data": {
            "text/plain": [
              "[0.032897233963012695, 0.9901999831199646]"
            ]
          },
          "execution_count": 9,
          "metadata": {},
          "output_type": "execute_result"
        }
      ],
      "source": [
        "\n",
        "print(\"ANN model evaluation\")\n",
        "model2.evaluate(augmented_test)\n",
        "print(\"\\n\\n\\nCNN model evaluation\")\n",
        "model.evaluate(augmented_test)"
      ]
    }
  ],
  "metadata": {
    "accelerator": "GPU",
    "colab": {
      "provenance": []
    },
    "gpuClass": "standard",
    "kernelspec": {
      "display_name": "Python 3",
      "name": "python3"
    },
    "language_info": {
      "codemirror_mode": {
        "name": "ipython",
        "version": 3
      },
      "file_extension": ".py",
      "mimetype": "text/x-python",
      "name": "python",
      "nbconvert_exporter": "python",
      "pygments_lexer": "ipython3",
      "version": "3.8.10"
    }
  },
  "nbformat": 4,
  "nbformat_minor": 0
}
