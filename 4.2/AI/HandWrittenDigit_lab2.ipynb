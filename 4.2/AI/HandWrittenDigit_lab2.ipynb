{
  "cells": [
    {
      "cell_type": "code",
      "execution_count": null,
      "metadata": {
        "id": "c9BzPpf7nEQv"
      },
      "outputs": [],
      "source": [
        "import tensorflow as tf\n",
        "from tensorflow import keras\n",
        "import matplotlib.pyplot as plt\n",
        "import numpy as np\n",
        "from keras.preprocessing.image import ImageDataGenerator"
      ]
    },
    {
      "cell_type": "markdown",
      "metadata": {
        "id": "pyIy_oE0x9V1"
      },
      "source": [
        "\n",
        "\n",
        "# Loading Dataset & Normalizing\n",
        "\n",
        "\n"
      ]
    },
    {
      "cell_type": "code",
      "execution_count": null,
      "metadata": {
        "colab": {
          "base_uri": "https://localhost:8080/"
        },
        "id": "SKPA_yM4nEQ1",
        "outputId": "771b1a80-d366-4abd-e18d-e9c927a5d8e2"
      },
      "outputs": [
        {
          "output_type": "stream",
          "name": "stdout",
          "text": [
            "Downloading data from https://storage.googleapis.com/tensorflow/tf-keras-datasets/mnist.npz\n",
            "11490434/11490434 [==============================] - 2s 0us/step\n"
          ]
        }
      ],
      "source": [
        "(x_train,y_train),(x_test,y_test)=keras.datasets.mnist.load_data()\n",
        "#data normalization\n",
        "x_train = x_train/255.0\n",
        "x_test = x_test/255.0"
      ]
    },
    {
      "cell_type": "markdown",
      "metadata": {
        "id": "BlHO5tn8BMjT"
      },
      "source": [
        "# Test data augmantation"
      ]
    },
    {
      "cell_type": "code",
      "execution_count": null,
      "metadata": {
        "id": "bDBTFdcfBL8J"
      },
      "outputs": [],
      "source": [
        "\n",
        "# Define the data generator with the desired transformations\n",
        "datagen = ImageDataGenerator(\n",
        "    rotation_range=10,      # Rotate images by up to 10 degrees\n",
        "    zoom_range=0.1,         # Zoom in or out by up to 10%\n",
        "    width_shift_range=0.1,  # Shift images horizontally by up to 10%\n",
        "    height_shift_range=0.1, # Shift images vertically by up to 10%\n",
        ")\n",
        "\n",
        "# Fit the data generator to the testing data\n",
        "datagen.fit(x_test.reshape((-1, 28, 28, 1)))\n",
        "\n",
        "# Create a new iterator for the augmented data\n",
        "augmented_iterator = datagen.flow(x_test.reshape((-1, 28, 28, 1)), y_test, batch_size=32)\n"
      ]
    },
    {
      "cell_type": "markdown",
      "metadata": {
        "id": "eEukQbdeyfL-"
      },
      "source": [
        "# **Creating model & Compilation without augmantation**"
      ]
    },
    {
      "cell_type": "code",
      "execution_count": null,
      "metadata": {
        "id": "DeCMaGgKnEQ4"
      },
      "outputs": [],
      "source": [
        "model = keras.Sequential([\n",
        "    keras.layers.Flatten(input_shape=(28,28)),#input layer\n",
        "    keras.layers.Dense(128,activation='relu'),#hidden layer with 128 neurons\n",
        "    keras.layers.Dense(64,activation='relu'),#hidden layer with 64 neurons\n",
        "    keras.layers.Dense(32,activation='relu'),#hidden layer with 32 neurons\n",
        "    keras.layers.Dense(10,activation='softmax')#output layer with 10 neurons\n",
        "])\n",
        "\n",
        "model.compile( #model compilation\n",
        "    optimizer = 'adam',\n",
        "    loss='sparse_categorical_crossentropy',\n",
        "    metrics = ['accuracy']\n",
        ")\n",
        "\n",
        "\n"
      ]
    },
    {
      "cell_type": "code",
      "execution_count": null,
      "metadata": {
        "colab": {
          "base_uri": "https://localhost:8080/"
        },
        "id": "31A0DU6O7ELe",
        "outputId": "c3502bc4-b938-4a14-f413-00cd555215fb"
      },
      "outputs": [
        {
          "output_type": "stream",
          "name": "stdout",
          "text": [
            "Epoch 1/20\n",
            "1875/1875 [==============================] - 12s 3ms/step - loss: 0.2510 - accuracy: 0.9257\n",
            "Epoch 2/20\n",
            "1875/1875 [==============================] - 5s 3ms/step - loss: 0.1052 - accuracy: 0.9684\n",
            "Epoch 3/20\n",
            "1875/1875 [==============================] - 6s 3ms/step - loss: 0.0732 - accuracy: 0.9770\n",
            "Epoch 4/20\n",
            "1875/1875 [==============================] - 5s 3ms/step - loss: 0.0594 - accuracy: 0.9812\n",
            "Epoch 5/20\n",
            "1875/1875 [==============================] - 6s 3ms/step - loss: 0.0457 - accuracy: 0.9858\n",
            "Epoch 6/20\n",
            "1875/1875 [==============================] - 5s 3ms/step - loss: 0.0391 - accuracy: 0.9873\n",
            "Epoch 7/20\n",
            "1875/1875 [==============================] - 6s 3ms/step - loss: 0.0334 - accuracy: 0.9890\n",
            "Epoch 8/20\n",
            "1875/1875 [==============================] - 5s 3ms/step - loss: 0.0294 - accuracy: 0.9906\n",
            "Epoch 9/20\n",
            "1875/1875 [==============================] - 6s 3ms/step - loss: 0.0260 - accuracy: 0.9915\n",
            "Epoch 10/20\n",
            "1875/1875 [==============================] - 5s 3ms/step - loss: 0.0232 - accuracy: 0.9923\n",
            "Epoch 11/20\n",
            "1875/1875 [==============================] - 5s 3ms/step - loss: 0.0214 - accuracy: 0.9927\n",
            "Epoch 12/20\n",
            "1875/1875 [==============================] - 6s 3ms/step - loss: 0.0195 - accuracy: 0.9937\n",
            "Epoch 13/20\n",
            "1875/1875 [==============================] - 5s 3ms/step - loss: 0.0164 - accuracy: 0.9947\n",
            "Epoch 14/20\n",
            "1875/1875 [==============================] - 6s 3ms/step - loss: 0.0155 - accuracy: 0.9948\n",
            "Epoch 15/20\n",
            "1875/1875 [==============================] - 5s 3ms/step - loss: 0.0151 - accuracy: 0.9952\n",
            "Epoch 16/20\n",
            "1875/1875 [==============================] - 6s 3ms/step - loss: 0.0161 - accuracy: 0.9949\n",
            "Epoch 17/20\n",
            "1875/1875 [==============================] - 5s 3ms/step - loss: 0.0140 - accuracy: 0.9958\n",
            "Epoch 18/20\n",
            "1875/1875 [==============================] - 6s 3ms/step - loss: 0.0121 - accuracy: 0.9962\n",
            "Epoch 19/20\n",
            "1875/1875 [==============================] - 5s 3ms/step - loss: 0.0118 - accuracy: 0.9963\n",
            "Epoch 20/20\n",
            "1875/1875 [==============================] - 5s 3ms/step - loss: 0.0121 - accuracy: 0.9962\n"
          ]
        },
        {
          "output_type": "execute_result",
          "data": {
            "text/plain": [
              "<keras.callbacks.History at 0x7fe576e14fd0>"
            ]
          },
          "metadata": {},
          "execution_count": 7
        }
      ],
      "source": [
        "model.fit(x_train,y_train,epochs = 20)#model fitting\n"
      ]
    },
    {
      "cell_type": "markdown",
      "metadata": {
        "id": "MF-kXv5GBdMI"
      },
      "source": [
        "# **Model evaluation and Preidtion**\n"
      ]
    },
    {
      "cell_type": "code",
      "execution_count": null,
      "metadata": {
        "colab": {
          "base_uri": "https://localhost:8080/"
        },
        "id": "_lSteNCdHu13",
        "outputId": "0756210a-9f44-4110-e98b-593d10fedf06"
      },
      "outputs": [
        {
          "output_type": "stream",
          "name": "stdout",
          "text": [
            "313/313 [==============================] - 1s 3ms/step - loss: 0.1272 - accuracy: 0.9778\n",
            "313/313 [==============================] - 4s 11ms/step - loss: 1.9597 - accuracy: 0.7764\n"
          ]
        },
        {
          "output_type": "execute_result",
          "data": {
            "text/plain": [
              "[1.9597392082214355, 0.7764000296592712]"
            ]
          },
          "metadata": {},
          "execution_count": 8
        }
      ],
      "source": [
        "model.evaluate(x_test,y_test) #model evaluation\n",
        "model.evaluate(augmented_iterator) #model evaluation"
      ]
    },
    {
      "cell_type": "code",
      "execution_count": null,
      "metadata": {
        "colab": {
          "base_uri": "https://localhost:8080/",
          "height": 609
        },
        "id": "90tlx6PG8xBp",
        "outputId": "b5ed1359-c74e-4dad-a674-d6b006feafeb"
      },
      "outputs": [
        {
          "output_type": "stream",
          "name": "stdout",
          "text": [
            "313/313 [==============================] - 1s 1ms/step\n"
          ]
        },
        {
          "output_type": "display_data",
          "data": {
            "text/plain": [
              "<Figure size 720x720 with 25 Axes>"
            ],
            "image/png": "[encoded data removed]"
          },
          "metadata": {}
        }
      ],
      "source": [
        "\n",
        "# predicted = model.predict(x_test)\n",
        "#showing the data\n",
        "predicted = model.predict(x_test)\n",
        "plt.figure(figsize=(10,10))\n",
        "for i in range(25):\n",
        "  plt.subplot(5,5,i+1)\n",
        "  plt.xticks([])\n",
        "  plt.yticks([])\n",
        "  plt.grid(False)\n",
        "  plt.imshow(x_test[i],cmap=plt.cm.binary)\n",
        "  plt.xlabel(\"real=\"+str(y_test[i])+\" , \"+\"predicted=\"+str(np.argmax(predicted[i])))\n",
        "plt.show()\n"
      ]
    },
    {
      "cell_type": "markdown",
      "metadata": {
        "id": "S8BZ0C5kBbFb"
      },
      "source": [
        "# Data augmentation,creating new dataset\n",
        "\n"
      ]
    },
    {
      "cell_type": "code",
      "execution_count": null,
      "metadata": {
        "id": "LORG6IEMBast"
      },
      "outputs": [],
      "source": [
        "datagen = ImageDataGenerator(\n",
        "    rotation_range=10,      # Rotate images by up to 10 degrees\n",
        "    zoom_range=0.1,         # Zoom in or out by up to 10%\n",
        "    width_shift_range=0.1,  # Shift images horizontally by up to 10%\n",
        "    height_shift_range=0.1, # Shift images vertically by up to 10%\n",
        ")\n",
        "\n",
        "# Fit the data generator to the training data\n",
        "datagen.fit(x_train.reshape(-1, 28, 28, 1))\n",
        "\n",
        "# Create a new training set with augmented data\n",
        "augmented_images = []\n",
        "augmented_labels = []\n",
        "for x_batch, y_batch in datagen.flow(x_train.reshape(-1, 28, 28, 1), y_train, batch_size=len(x_train)):\n",
        "    augmented_images.append(x_batch)\n",
        "    augmented_labels.append(y_batch)\n",
        "    if len(augmented_images) >= 10:\n",
        "        break\n",
        "\n",
        "augmented_images = tf.concat(augmented_images, axis=0)\n",
        "augmented_labels = tf.concat(augmented_labels, axis=0)\n"
      ]
    },
    {
      "cell_type": "markdown",
      "metadata": {
        "id": "TUSGHvtd8iEa"
      },
      "source": [
        "# **Creating model & Compilation with augmantation**"
      ]
    },
    {
      "cell_type": "code",
      "execution_count": null,
      "metadata": {
        "id": "63LKux867fFv"
      },
      "outputs": [],
      "source": [
        "model2 = keras.Sequential([\n",
        "    keras.layers.Flatten(input_shape=(28,28)),#input layer\n",
        "    keras.layers.Dense(128,activation='relu'),#hidden layer with 128 neurons\n",
        "    keras.layers.Dense(64,activation='relu'),#hidden layer with 64 neurons\n",
        "    keras.layers.Dense(32,activation='relu'),#hidden layer with 32 neurons\n",
        "    keras.layers.Dense(10,activation='softmax')#output layer with 10 neurons\n",
        "])\n",
        "\n",
        "model2.compile( #model compilation\n",
        "    optimizer = 'adam',\n",
        "    loss='sparse_categorical_crossentropy',\n",
        "    metrics = ['accuracy']\n",
        ")\n"
      ]
    },
    {
      "cell_type": "markdown",
      "metadata": {
        "id": "y07qXex2-7E2"
      },
      "source": [
        "# Model training"
      ]
    },
    {
      "cell_type": "code",
      "execution_count": null,
      "metadata": {
        "colab": {
          "base_uri": "https://localhost:8080/"
        },
        "id": "pt9HH3hVy0Lv",
        "outputId": "a6e8f4cc-ff74-4744-fd90-ed05404c751a"
      },
      "outputs": [
        {
          "output_type": "stream",
          "name": "stdout",
          "text": [
            "Epoch 1/20\n",
            "18750/18750 [==============================] - 56s 3ms/step - loss: 0.1827 - accuracy: 0.9436\n",
            "Epoch 2/20\n",
            "18750/18750 [==============================] - 54s 3ms/step - loss: 0.0920 - accuracy: 0.9714\n",
            "Epoch 3/20\n",
            "18750/18750 [==============================] - 54s 3ms/step - loss: 0.0735 - accuracy: 0.9768\n",
            "Epoch 4/20\n",
            "18750/18750 [==============================] - 55s 3ms/step - loss: 0.0633 - accuracy: 0.9802\n",
            "Epoch 5/20\n",
            "18750/18750 [==============================] - 54s 3ms/step - loss: 0.0570 - accuracy: 0.9819\n",
            "Epoch 6/20\n",
            "18750/18750 [==============================] - 56s 3ms/step - loss: 0.0519 - accuracy: 0.9834\n",
            "Epoch 7/20\n",
            "18750/18750 [==============================] - 54s 3ms/step - loss: 0.0478 - accuracy: 0.9848\n",
            "Epoch 8/20\n",
            "18750/18750 [==============================] - 54s 3ms/step - loss: 0.0448 - accuracy: 0.9859\n",
            "Epoch 9/20\n",
            "18750/18750 [==============================] - 54s 3ms/step - loss: 0.0426 - accuracy: 0.9865\n",
            "Epoch 10/20\n",
            "18750/18750 [==============================] - 54s 3ms/step - loss: 0.0403 - accuracy: 0.9871\n",
            "Epoch 11/20\n",
            "18750/18750 [==============================] - 54s 3ms/step - loss: 0.0386 - accuracy: 0.9878\n",
            "Epoch 12/20\n",
            "18750/18750 [==============================] - 55s 3ms/step - loss: 0.0370 - accuracy: 0.9882\n",
            "Epoch 13/20\n",
            "18750/18750 [==============================] - 55s 3ms/step - loss: 0.0353 - accuracy: 0.9887\n",
            "Epoch 14/20\n",
            "18750/18750 [==============================] - 54s 3ms/step - loss: 0.0345 - accuracy: 0.9890\n",
            "Epoch 15/20\n",
            "18750/18750 [==============================] - 54s 3ms/step - loss: 0.0338 - accuracy: 0.9892\n",
            "Epoch 16/20\n",
            "18750/18750 [==============================] - 53s 3ms/step - loss: 0.0321 - accuracy: 0.9897\n",
            "Epoch 17/20\n",
            "18750/18750 [==============================] - 53s 3ms/step - loss: 0.0312 - accuracy: 0.9899\n",
            "Epoch 18/20\n",
            "18750/18750 [==============================] - 54s 3ms/step - loss: 0.0305 - accuracy: 0.9903\n",
            "Epoch 19/20\n",
            "18750/18750 [==============================] - 54s 3ms/step - loss: 0.0300 - accuracy: 0.9904\n",
            "Epoch 20/20\n",
            "18750/18750 [==============================] - 53s 3ms/step - loss: 0.0293 - accuracy: 0.9907\n"
          ]
        },
        {
          "output_type": "execute_result",
          "data": {
            "text/plain": [
              "<keras.callbacks.History at 0x7fe56c076a00>"
            ]
          },
          "metadata": {},
          "execution_count": 12
        }
      ],
      "source": [
        "model2.fit(augmented_images,augmented_labels,epochs = 20)"
      ]
    },
    {
      "cell_type": "markdown",
      "metadata": {
        "id": "ShyBJe7Xy_Y7"
      },
      "source": [
        "# **Model evaluation and Preidtion**\n",
        "\n"
      ]
    },
    {
      "cell_type": "code",
      "execution_count": null,
      "metadata": {
        "colab": {
          "base_uri": "https://localhost:8080/"
        },
        "id": "ir6BJFKxnERA",
        "outputId": "0ac6a15f-311d-4fdd-a305-7e2c107c3ac8"
      },
      "outputs": [
        {
          "output_type": "stream",
          "name": "stdout",
          "text": [
            "313/313 [==============================] - 1s 3ms/step - loss: 0.0563 - accuracy: 0.9854\n",
            "313/313 [==============================] - 4s 12ms/step - loss: 0.0935 - accuracy: 0.9803\n",
            "313/313 [==============================] - 1s 1ms/step\n"
          ]
        }
      ],
      "source": [
        "model2.evaluate(x_test,y_test) #model evaluation\n",
        "model2.evaluate(augmented_iterator)\n",
        "# augmented_images.shape\n",
        "predicted = model2.predict(x_test)"
      ]
    },
    {
      "cell_type": "markdown",
      "metadata": {
        "id": "bLKsGGlgzKAK"
      },
      "source": [
        "# **Showing real and Predicted output**"
      ]
    },
    {
      "cell_type": "code",
      "execution_count": null,
      "metadata": {
        "colab": {
          "base_uri": "https://localhost:8080/"
        },
        "id": "aUVOmP48nERB",
        "outputId": "87d25bfb-8b31-4183-eb04-852b5daef9b7"
      },
      "outputs": [
        {
          "output_type": "display_data",
          "data": {
            "text/plain": [
              "<Figure size 720x720 with 25 Axes>"
            ],
            "image/png": "[encoded data removed]"
          },
          "metadata": {}
        }
      ],
      "source": [
        "plt.figure(figsize=(10,10))\n",
        "for i in range(25):\n",
        "  plt.subplot(5,5,i+1)\n",
        "  plt.xticks([])\n",
        "  plt.yticks([])\n",
        "  plt.grid(False)\n",
        "  plt.imshow(x_test[i],cmap=plt.cm.binary)\n",
        "  plt.xlabel(\"real=\"+str(y_test[i])+\" , \"+\"predicted=\"+str(np.argmax(predicted[i])))\n",
        "plt.show()\n"
      ]
    }
  ],
  "metadata": {
    "accelerator": "GPU",
    "colab": {
      "provenance": []
    },
    "gpuClass": "standard",
    "kernelspec": {
      "display_name": "Python 3",
      "language": "python",
      "name": "python3"
    },
    "language_info": {
      "codemirror_mode": {
        "name": "ipython",
        "version": 3
      },
      "file_extension": ".py",
      "mimetype": "text/x-python",
      "name": "python",
      "nbconvert_exporter": "python",
      "pygments_lexer": "ipython3",
      "version": "3.8.10"
    },
    "vscode": {
      "interpreter": {
        "hash": "916dbcbb3f70747c44a77c7bcd40155683ae19c65e1c03b4aa3499c5328201f1"
      }
    }
  },
  "nbformat": 4,
  "nbformat_minor": 0
}