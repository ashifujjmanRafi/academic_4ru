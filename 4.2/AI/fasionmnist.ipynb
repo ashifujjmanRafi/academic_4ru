{
  "cells": [
    {
      "cell_type": "code",
      "execution_count": null,
      "metadata": {
        "id": "c9BzPpf7nEQv"
      },
      "outputs": [],
      "source": [
        "import tensorflow as tf\n",
        "from tensorflow import keras\n",
        "from keras.datasets import fashion_mnist\n",
        "from keras.preprocessing.image import ImageDataGenerator"
      ]
    },
    {
      "cell_type": "markdown",
      "metadata": {
        "id": "pyIy_oE0x9V1"
      },
      "source": [
        "\n",
        "\n",
        "# Loading Dataset & Normalizing\n",
        "\n",
        "\n"
      ]
    },
    {
      "cell_type": "code",
      "execution_count": null,
      "metadata": {
        "id": "SKPA_yM4nEQ1"
      },
      "outputs": [],
      "source": [
        "(x_train,y_train),(x_test,y_test)=fashion_mnist.load_data()\n",
        "# #data normalization\n",
        "x_train = x_train.astype('float32') / 255\n",
        "x_test = x_test.astype('float32') / 255"
      ]
    },
    {
      "cell_type": "markdown",
      "metadata": {
        "id": "BlHO5tn8BMjT"
      },
      "source": [
        "# **Data augmantation**"
      ]
    },
    {
      "cell_type": "code",
      "execution_count": null,
      "metadata": {
        "id": "bDBTFdcfBL8J"
      },
      "outputs": [],
      "source": [
        "\n",
        "datagen = ImageDataGenerator(\n",
        "    rotation_range=10,      # Rotate images by up to 10 degrees\n",
        "    zoom_range=0.1,         # Zoom in or out by up to 10%\n",
        "    width_shift_range=0.1,  # Shift images horizontally by up to 10%\n",
        "    height_shift_range=0.1, # Shift images vertically by up to 10%\n",
        ")\n",
        "\n",
        "# Fit the data generator to the testing data\n",
        "datagen.fit(x_train.reshape((-1, 28, 28, 1)))\n",
        "# Create a new iterator for the augmented data\n",
        "augmented_train = datagen.flow(x_train.reshape((-1, 28, 28, 1)), y_train, batch_size=32)\n",
        "\n",
        "# Fit the data generator to the testing data\n",
        "datagen.fit(x_test.reshape((-1, 28, 28, 1)))\n",
        "# Create a new iterator for the augmented data\n",
        "augmented_test = datagen.flow(x_test.reshape((-1, 28, 28, 1)), y_test, batch_size=32)\n"
      ]
    },
    {
      "cell_type": "markdown",
      "metadata": {
        "id": "eEukQbdeyfL-"
      },
      "source": [
        "# **Creating model & Compilation without augmantation**"
      ]
    },
    {
      "cell_type": "code",
      "execution_count": null,
      "metadata": {
        "id": "DeCMaGgKnEQ4"
      },
      "outputs": [],
      "source": [
        "model = keras.Sequential([\n",
        "    keras.layers.Flatten(input_shape=(28,28)),#input layer\n",
        "    keras.layers.Dense(128,activation='relu'),#hidden layer with 128 neurons\n",
        "    keras.layers.Dense(64,activation='relu'),#hidden layer with 64 neurons\n",
        "    keras.layers.Dense(32,activation='relu'),#hidden layer with 32 neurons\n",
        "    keras.layers.Dense(10,activation='softmax')#output layer with 10 neurons\n",
        "])\n",
        "\n",
        "model.compile(\n",
        "    optimizer = 'adam',\n",
        "    loss='sparse_categorical_crossentropy',\n",
        "    metrics = ['accuracy']\n",
        ")\n",
        "\n",
        "\n"
      ]
    },
    {
      "cell_type": "code",
      "execution_count": null,
      "metadata": {
        "colab": {
          "base_uri": "https://localhost:8080/"
        },
        "id": "31A0DU6O7ELe",
        "outputId": "bf311c62-ffd3-42a1-c41a-c58d7e7d23da"
      },
      "outputs": [
        {
          "output_type": "stream",
          "name": "stdout",
          "text": [
            "Epoch 1/20\n",
            "1875/1875 [==============================] - 9s 4ms/step - loss: 0.5116 - accuracy: 0.8187\n",
            "Epoch 2/20\n",
            "1875/1875 [==============================] - 7s 4ms/step - loss: 0.3726 - accuracy: 0.8636\n",
            "Epoch 3/20\n",
            "1875/1875 [==============================] - 8s 4ms/step - loss: 0.3396 - accuracy: 0.8756\n",
            "Epoch 4/20\n",
            "1875/1875 [==============================] - 7s 3ms/step - loss: 0.3168 - accuracy: 0.8835\n",
            "Epoch 5/20\n",
            "1875/1875 [==============================] - 8s 4ms/step - loss: 0.2983 - accuracy: 0.8881\n",
            "Epoch 6/20\n",
            "1875/1875 [==============================] - 7s 4ms/step - loss: 0.2853 - accuracy: 0.8934\n",
            "Epoch 7/20\n",
            "1875/1875 [==============================] - 7s 4ms/step - loss: 0.2729 - accuracy: 0.8981\n",
            "Epoch 8/20\n",
            "1875/1875 [==============================] - 8s 4ms/step - loss: 0.2614 - accuracy: 0.9017\n",
            "Epoch 9/20\n",
            "1875/1875 [==============================] - 7s 3ms/step - loss: 0.2539 - accuracy: 0.9057\n",
            "Epoch 10/20\n",
            "1875/1875 [==============================] - 8s 4ms/step - loss: 0.2448 - accuracy: 0.9074\n",
            "Epoch 11/20\n",
            "1875/1875 [==============================] - 9s 5ms/step - loss: 0.2369 - accuracy: 0.9104\n",
            "Epoch 12/20\n",
            "1875/1875 [==============================] - 7s 4ms/step - loss: 0.2297 - accuracy: 0.9125\n",
            "Epoch 13/20\n",
            "1875/1875 [==============================] - 8s 4ms/step - loss: 0.2242 - accuracy: 0.9156\n",
            "Epoch 14/20\n",
            "1875/1875 [==============================] - 7s 3ms/step - loss: 0.2186 - accuracy: 0.9176\n",
            "Epoch 15/20\n",
            "1875/1875 [==============================] - 8s 4ms/step - loss: 0.2139 - accuracy: 0.9190\n",
            "Epoch 16/20\n",
            "1875/1875 [==============================] - 7s 4ms/step - loss: 0.2061 - accuracy: 0.9220\n",
            "Epoch 17/20\n",
            "1875/1875 [==============================] - 8s 4ms/step - loss: 0.2015 - accuracy: 0.9239\n",
            "Epoch 18/20\n",
            "1875/1875 [==============================] - 8s 4ms/step - loss: 0.1968 - accuracy: 0.9258\n",
            "Epoch 19/20\n",
            "1875/1875 [==============================] - 7s 4ms/step - loss: 0.1920 - accuracy: 0.9265\n",
            "Epoch 20/20\n",
            "1875/1875 [==============================] - 8s 4ms/step - loss: 0.1876 - accuracy: 0.9292\n"
          ]
        },
        {
          "output_type": "execute_result",
          "data": {
            "text/plain": [
              "<keras.callbacks.History at 0x7f0da84baa60>"
            ]
          },
          "metadata": {},
          "execution_count": 8
        }
      ],
      "source": [
        "model.fit(x_train,y_train,epochs = 20)#model fitting\n"
      ]
    },
    {
      "cell_type": "markdown",
      "metadata": {
        "id": "TUSGHvtd8iEa"
      },
      "source": [
        "# **Creating model & Compilation with augmantation**"
      ]
    },
    {
      "cell_type": "code",
      "execution_count": null,
      "metadata": {
        "id": "63LKux867fFv"
      },
      "outputs": [],
      "source": [
        "model2 = keras.Sequential([\n",
        "    keras.layers.Flatten(input_shape=(28,28)),#input layer\n",
        "    keras.layers.Dense(128,activation='relu'),#hidden layer with 128 neurons\n",
        "    keras.layers.Dense(64,activation='relu'),#hidden layer with 64 neurons\n",
        "    keras.layers.Dense(32,activation='relu'),#hidden layer with 32 neurons\n",
        "    keras.layers.Dense(10,activation='softmax')#output layer with 10 neurons\n",
        "])\n",
        "\n",
        "model2.compile( #model compilation\n",
        "    optimizer = 'adam',\n",
        "    loss='sparse_categorical_crossentropy',\n",
        "    metrics = ['accuracy']\n",
        ")\n"
      ]
    },
    {
      "cell_type": "markdown",
      "metadata": {
        "id": "y07qXex2-7E2"
      },
      "source": [
        "# Model training"
      ]
    },
    {
      "cell_type": "code",
      "execution_count": null,
      "metadata": {
        "colab": {
          "base_uri": "https://localhost:8080/"
        },
        "id": "pt9HH3hVy0Lv",
        "outputId": "9c7fe779-170b-4e7a-89d3-fdabafe6c599"
      },
      "outputs": [
        {
          "output_type": "stream",
          "name": "stdout",
          "text": [
            "Epoch 1/20\n"
          ]
        },
        {
          "output_type": "stream",
          "name": "stderr",
          "text": [
            "WARNING:tensorflow:Model was constructed with shape (None, 28, 28) for input KerasTensor(type_spec=TensorSpec(shape=(None, 28, 28), dtype=tf.float32, name='flatten_1_input'), name='flatten_1_input', description=\"created by layer 'flatten_1_input'\"), but it was called on an input with incompatible shape (None, None, None, None).\n",
            "WARNING:tensorflow:Model was constructed with shape (None, 28, 28) for input KerasTensor(type_spec=TensorSpec(shape=(None, 28, 28), dtype=tf.float32, name='flatten_1_input'), name='flatten_1_input', description=\"created by layer 'flatten_1_input'\"), but it was called on an input with incompatible shape (None, None, None, None).\n"
          ]
        },
        {
          "output_type": "stream",
          "name": "stdout",
          "text": [
            "1875/1875 [==============================] - 29s 15ms/step - loss: 0.7772 - accuracy: 0.7074\n",
            "Epoch 2/20\n",
            "1875/1875 [==============================] - 29s 16ms/step - loss: 0.6267 - accuracy: 0.7638\n",
            "Epoch 3/20\n",
            "1875/1875 [==============================] - 31s 16ms/step - loss: 0.5817 - accuracy: 0.7793\n",
            "Epoch 4/20\n",
            "1875/1875 [==============================] - 29s 16ms/step - loss: 0.5546 - accuracy: 0.7894\n",
            "Epoch 5/20\n",
            "1875/1875 [==============================] - 31s 16ms/step - loss: 0.5357 - accuracy: 0.7953\n",
            "Epoch 6/20\n",
            "1875/1875 [==============================] - 29s 16ms/step - loss: 0.5237 - accuracy: 0.7993\n",
            "Epoch 7/20\n",
            "1875/1875 [==============================] - 29s 15ms/step - loss: 0.5073 - accuracy: 0.8060\n",
            "Epoch 8/20\n",
            "1875/1875 [==============================] - 33s 17ms/step - loss: 0.5033 - accuracy: 0.8073\n",
            "Epoch 9/20\n",
            "1875/1875 [==============================] - 31s 16ms/step - loss: 0.4879 - accuracy: 0.8141\n",
            "Epoch 10/20\n",
            "1875/1875 [==============================] - 29s 15ms/step - loss: 0.4861 - accuracy: 0.8146\n",
            "Epoch 11/20\n",
            "1875/1875 [==============================] - 30s 16ms/step - loss: 0.4819 - accuracy: 0.8163\n",
            "Epoch 12/20\n",
            "1875/1875 [==============================] - 30s 16ms/step - loss: 0.4760 - accuracy: 0.8194\n",
            "Epoch 13/20\n",
            "1875/1875 [==============================] - 29s 15ms/step - loss: 0.4716 - accuracy: 0.8212\n",
            "Epoch 14/20\n",
            "1875/1875 [==============================] - 29s 15ms/step - loss: 0.4672 - accuracy: 0.8218\n",
            "Epoch 15/20\n",
            "1875/1875 [==============================] - 29s 16ms/step - loss: 0.4627 - accuracy: 0.8227\n",
            "Epoch 16/20\n",
            "1875/1875 [==============================] - 29s 15ms/step - loss: 0.4623 - accuracy: 0.8244\n",
            "Epoch 17/20\n",
            "1875/1875 [==============================] - 30s 16ms/step - loss: 0.4557 - accuracy: 0.8249\n",
            "Epoch 18/20\n",
            "1875/1875 [==============================] - 29s 15ms/step - loss: 0.4526 - accuracy: 0.8279\n",
            "Epoch 19/20\n",
            "1875/1875 [==============================] - 30s 16ms/step - loss: 0.4489 - accuracy: 0.8287\n",
            "Epoch 20/20\n",
            "1875/1875 [==============================] - 29s 15ms/step - loss: 0.4463 - accuracy: 0.8300\n"
          ]
        },
        {
          "output_type": "execute_result",
          "data": {
            "text/plain": [
              "<keras.callbacks.History at 0x7f0da4408250>"
            ]
          },
          "metadata": {},
          "execution_count": 10
        }
      ],
      "source": [
        "model2.fit(augmented_train,epochs = 20)"
      ]
    },
    {
      "cell_type": "markdown",
      "metadata": {
        "id": "ShyBJe7Xy_Y7"
      },
      "source": [
        "# **Model evaluation (without augmentation)**\n",
        "\n"
      ]
    },
    {
      "cell_type": "code",
      "execution_count": null,
      "metadata": {
        "id": "_lSteNCdHu13",
        "colab": {
          "base_uri": "https://localhost:8080/"
        },
        "outputId": "5da7c03f-d71b-4350-8107-a459cb527ca3"
      },
      "outputs": [
        {
          "output_type": "stream",
          "name": "stdout",
          "text": [
            "313/313 [==============================] - 1s 2ms/step - loss: 0.3671 - accuracy: 0.8837\n",
            "313/313 [==============================] - 4s 13ms/step - loss: 2.3313 - accuracy: 0.5760\n"
          ]
        },
        {
          "output_type": "execute_result",
          "data": {
            "text/plain": [
              "[2.3312594890594482, 0.5759999752044678]"
            ]
          },
          "metadata": {},
          "execution_count": 11
        }
      ],
      "source": [
        "model.evaluate(x_test,y_test) #model evaluation\n",
        "model.evaluate(augmented_test) #model evaluation"
      ]
    },
    {
      "cell_type": "markdown",
      "metadata": {
        "id": "cDXj1t7a1Pty"
      },
      "source": [
        "# **Model evaluation (with augmentation)**\n"
      ]
    },
    {
      "cell_type": "code",
      "execution_count": null,
      "metadata": {
        "id": "ir6BJFKxnERA",
        "colab": {
          "base_uri": "https://localhost:8080/"
        },
        "outputId": "1e903222-f788-489a-d43d-0f3622470441"
      },
      "outputs": [
        {
          "output_type": "stream",
          "name": "stdout",
          "text": [
            "313/313 [==============================] - 1s 2ms/step - loss: 0.3960 - accuracy: 0.8510\n",
            "313/313 [==============================] - 4s 13ms/step - loss: 0.4660 - accuracy: 0.8262\n"
          ]
        },
        {
          "output_type": "execute_result",
          "data": {
            "text/plain": [
              "[0.46598193049430847, 0.826200008392334]"
            ]
          },
          "metadata": {},
          "execution_count": 14
        }
      ],
      "source": [
        "model2.evaluate(x_test,y_test) #model evaluation\n",
        "model2.evaluate(augmented_test)\n"
      ]
    }
  ],
  "metadata": {
    "colab": {
      "provenance": []
    },
    "kernelspec": {
      "display_name": "Python 3",
      "name": "python3"
    },
    "language_info": {
      "name": "python"
    }
  },
  "nbformat": 4,
  "nbformat_minor": 0
}