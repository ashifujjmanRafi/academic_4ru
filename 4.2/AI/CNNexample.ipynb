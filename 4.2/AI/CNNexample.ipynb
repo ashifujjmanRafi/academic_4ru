{
  "nbformat": 4,
  "nbformat_minor": 0,
  "metadata": {
    "colab": {
      "provenance": []
    },
    "kernelspec": {
      "name": "python3",
      "display_name": "Python 3"
    },
    "language_info": {
      "name": "python"
    }
  },
  "cells": [
    {
      "cell_type": "code",
      "execution_count": null,
      "metadata": {
        "id": "5UpEzxbhMdpa"
      },
      "outputs": [],
      "source": [
        "import tensorflow as tf\n",
        "from tensorflow import keras\n",
        "from keras.preprocessing.image import ImageDataGenerator\n"
      ]
    },
    {
      "cell_type": "markdown",
      "source": [
        "# Load the MNIST dataset"
      ],
      "metadata": {
        "id": "VBuKmvbtR9Nx"
      }
    },
    {
      "cell_type": "code",
      "source": [
        "(x_train,y_train),(x_test,y_test) = keras.datasets.mnist.load_data()\n",
        "x_train = x_train/255.0\n",
        "x_test = x_test/255.0\n"
      ],
      "metadata": {
        "id": "FHAEoD3dRWXC"
      },
      "execution_count": null,
      "outputs": []
    },
    {
      "cell_type": "markdown",
      "source": [
        "# **Data Augmentation function**"
      ],
      "metadata": {
        "id": "q1y8U0WmAoV9"
      }
    },
    {
      "cell_type": "code",
      "source": [
        "datagen = ImageDataGenerator(\n",
        "    rotation_range = 10,\n",
        "    zoom_range = 0.1,\n",
        "    width_shift_range = 0.1,\n",
        "    height_shift_range= 0.1,\n",
        ")"
      ],
      "metadata": {
        "id": "oPlsk2vrAxSJ"
      },
      "execution_count": null,
      "outputs": []
    },
    {
      "cell_type": "markdown",
      "source": [
        "# Reshape the tainging and testing data and augmentation"
      ],
      "metadata": {
        "id": "C31nezRmReFS"
      }
    },
    {
      "cell_type": "code",
      "source": [
        "datagen.fit(x_train.reshape((-1,28,28,1)))\n",
        "augmented_train = datagen.flow(x_train.reshape((-1,28,28,1)),y_train, batch_size=32)\n",
        "\n",
        "datagen.fit(x_test.reshape((-1,28,28,1)))\n",
        "augmented_test = datagen.flow(x_test.reshape((-1,28,28,1)),y_test,batch_size = 32)"
      ],
      "metadata": {
        "id": "KBHp-JhNRhcO"
      },
      "execution_count": null,
      "outputs": []
    },
    {
      "cell_type": "markdown",
      "source": [
        "# **Create the CNN model and Compilation**\n",
        "1.   Two convo2d layer with (3,3) filter,and maxpolling (2,2), for feature extraction \n",
        "2.   Two dense layer with 64 and 10 neuron,**for classification**\n"
      ],
      "metadata": {
        "id": "eR-ASFdgRlPA"
      }
    },
    {
      "cell_type": "code",
      "source": [
        "from keras.layers.serialization import activation\n",
        "model = keras.Sequential([\n",
        "    #feature extraction part\n",
        "    keras.layers.Conv2D(32,(3,3),activation='relu',input_shape=(28,28,1)),\n",
        "    keras.layers.MaxPooling2D((2,2)),\n",
        "    keras.layers.Conv2D(64,(3,3),activation='relu'),\n",
        "    keras.layers.MaxPooling2D((2,2)),\n",
        "    \n",
        "    #classification part\n",
        "    keras.layers.Flatten(),\n",
        "    keras.layers.Dense(64,activation='relu'),\n",
        "    keras.layers.Dense(10,activation='softmax')\n",
        "    ])\n",
        "\n",
        "\n",
        "model.compile(\n",
        "    optimizer = 'adam',\n",
        "    loss = 'sparse_categorical_crossentropy',\n",
        "    metrics=['accuracy']\n",
        ")"
      ],
      "metadata": {
        "id": "OP1KWwWwRkzI"
      },
      "execution_count": null,
      "outputs": []
    },
    {
      "cell_type": "markdown",
      "source": [
        "# Train the model "
      ],
      "metadata": {
        "id": "Qa4axhRNSBD-"
      }
    },
    {
      "cell_type": "code",
      "source": [
        "model.fit(augmented_train,epochs=20)"
      ],
      "metadata": {
        "colab": {
          "base_uri": "https://localhost:8080/"
        },
        "id": "GXUv8FqDSCvU",
        "outputId": "32515bca-722b-4631-bfaf-4ce511aea092"
      },
      "execution_count": null,
      "outputs": [
        {
          "output_type": "stream",
          "name": "stdout",
          "text": [
            "Epoch 1/20\n",
            "1875/1875 [==============================] - 84s 45ms/step - loss: 0.0342 - accuracy: 0.9896\n",
            "Epoch 2/20\n",
            "1875/1875 [==============================] - 80s 43ms/step - loss: 0.0330 - accuracy: 0.9895\n",
            "Epoch 3/20\n",
            "1875/1875 [==============================] - 84s 45ms/step - loss: 0.0325 - accuracy: 0.9901\n",
            "Epoch 4/20\n",
            "1875/1875 [==============================] - 84s 45ms/step - loss: 0.0306 - accuracy: 0.9908\n",
            "Epoch 5/20\n",
            "1875/1875 [==============================] - 80s 43ms/step - loss: 0.0301 - accuracy: 0.9909\n",
            "Epoch 6/20\n",
            "1875/1875 [==============================] - 84s 45ms/step - loss: 0.0281 - accuracy: 0.9915\n",
            "Epoch 7/20\n",
            "1875/1875 [==============================] - 82s 44ms/step - loss: 0.0283 - accuracy: 0.9912\n",
            "Epoch 8/20\n",
            "1875/1875 [==============================] - 80s 43ms/step - loss: 0.0271 - accuracy: 0.9916\n",
            "Epoch 9/20\n",
            "1875/1875 [==============================] - 84s 45ms/step - loss: 0.0264 - accuracy: 0.9913\n",
            "Epoch 10/20\n",
            "1875/1875 [==============================] - 82s 44ms/step - loss: 0.0267 - accuracy: 0.9921\n",
            "Epoch 11/20\n",
            "1875/1875 [==============================] - 82s 44ms/step - loss: 0.0234 - accuracy: 0.9928\n",
            "Epoch 12/20\n",
            "1875/1875 [==============================] - 82s 44ms/step - loss: 0.0245 - accuracy: 0.9926\n",
            "Epoch 13/20\n",
            "1875/1875 [==============================] - 83s 44ms/step - loss: 0.0246 - accuracy: 0.9926\n",
            "Epoch 14/20\n",
            "1875/1875 [==============================] - 82s 44ms/step - loss: 0.0219 - accuracy: 0.9932\n",
            "Epoch 15/20\n",
            "1875/1875 [==============================] - 83s 44ms/step - loss: 0.0231 - accuracy: 0.9929\n",
            "Epoch 16/20\n",
            "1875/1875 [==============================] - 84s 45ms/step - loss: 0.0237 - accuracy: 0.9929\n",
            "Epoch 17/20\n",
            "1875/1875 [==============================] - 82s 44ms/step - loss: 0.0230 - accuracy: 0.9930\n",
            "Epoch 18/20\n",
            "1875/1875 [==============================] - 82s 44ms/step - loss: 0.0222 - accuracy: 0.9929\n",
            "Epoch 19/20\n",
            "1875/1875 [==============================] - 82s 44ms/step - loss: 0.0212 - accuracy: 0.9933\n",
            "Epoch 20/20\n",
            "1875/1875 [==============================] - 82s 44ms/step - loss: 0.0209 - accuracy: 0.9936\n"
          ]
        },
        {
          "output_type": "execute_result",
          "data": {
            "text/plain": [
              "<keras.callbacks.History at 0x7fee2a43ed60>"
            ]
          },
          "metadata": {},
          "execution_count": 22
        }
      ]
    },
    {
      "cell_type": "code",
      "source": [
        "model.summary()"
      ],
      "metadata": {
        "colab": {
          "base_uri": "https://localhost:8080/"
        },
        "id": "zj8_fjT8SjHr",
        "outputId": "f39fccfa-19ba-4b8a-c1e1-1091174f6f70"
      },
      "execution_count": null,
      "outputs": [
        {
          "output_type": "stream",
          "name": "stdout",
          "text": [
            "Model: \"sequential_4\"\n",
            "_________________________________________________________________\n",
            " Layer (type)                Output Shape              Param #   \n",
            "=================================================================\n",
            " conv2d_15 (Conv2D)          (None, 26, 26, 32)        320       \n",
            "                                                                 \n",
            " max_pooling2d_14 (MaxPoolin  (None, 13, 13, 32)       0         \n",
            " g2D)                                                            \n",
            "                                                                 \n",
            " conv2d_16 (Conv2D)          (None, 11, 11, 64)        18496     \n",
            "                                                                 \n",
            " max_pooling2d_15 (MaxPoolin  (None, 5, 5, 64)         0         \n",
            " g2D)                                                            \n",
            "                                                                 \n",
            " flatten_7 (Flatten)         (None, 1600)              0         \n",
            "                                                                 \n",
            " dense_10 (Dense)            (None, 64)                102464    \n",
            "                                                                 \n",
            " dense_11 (Dense)            (None, 10)                650       \n",
            "                                                                 \n",
            "=================================================================\n",
            "Total params: 121,930\n",
            "Trainable params: 121,930\n",
            "Non-trainable params: 0\n",
            "_________________________________________________________________\n"
          ]
        }
      ]
    },
    {
      "cell_type": "markdown",
      "source": [
        "# Evaluate the model on the test data\n"
      ],
      "metadata": {
        "id": "tK79HOfvSJHM"
      }
    },
    {
      "cell_type": "code",
      "source": [
        "model.evaluate(augmented_test)"
      ],
      "metadata": {
        "colab": {
          "base_uri": "https://localhost:8080/"
        },
        "id": "8xI1DakTSIqc",
        "outputId": "91344909-f10e-48b8-9eb5-0e439de04aba"
      },
      "execution_count": null,
      "outputs": [
        {
          "output_type": "stream",
          "name": "stdout",
          "text": [
            "313/313 [==============================] - 6s 19ms/step - loss: 0.0225 - accuracy: 0.9926\n"
          ]
        },
        {
          "output_type": "execute_result",
          "data": {
            "text/plain": [
              "[0.022458482533693314, 0.9926000237464905]"
            ]
          },
          "metadata": {},
          "execution_count": 25
        }
      ]
    }
  ]
}