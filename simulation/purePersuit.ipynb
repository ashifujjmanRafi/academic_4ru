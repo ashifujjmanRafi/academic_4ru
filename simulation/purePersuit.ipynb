{
 "cells": [
  {
   "cell_type": "code",
   "execution_count": 61,
   "id": "76bbf183",
   "metadata": {},
   "outputs": [],
   "source": [
    "import numpy as np\n",
    "import random\n",
    "import matplotlib.pyplot as plt"
   ]
  },
  {
   "cell_type": "code",
   "execution_count": 73,
   "id": "18bc699d",
   "metadata": {},
   "outputs": [
    {
     "name": "stdout",
     "output_type": "stream",
     "text": [
      "813.4893975953221\n",
      "405.23661287056245\n",
      "321.3919270701075\n",
      "350.7992846401133\n",
      "310.34707862114004\n",
      "364.094899278414\n",
      "647.1743920438531\n",
      "596.2320535082334\n",
      "763.7911662405653\n",
      "597.7261504198575\n",
      "582.381694446418\n",
      "242.9283750303694\n",
      "617.3281739478872\n",
      "70.4969029105532\n",
      "Bomber caught at step 14\n"
     ]
    }
   ],
   "source": [
    "xb, yb = np.random.randint(0, 1000, 2)\n",
    "xf, yf = np.random.randint(0, 1000, 2)\n",
    "vf = 20\n",
    "thresholdDist= 100\n",
    "maxDist = 900\n",
    "\n",
    "fx = []\n",
    "fy = []\n",
    "bx = []\n",
    "by = []\n",
    "\n",
    "fx.append(xf)\n",
    "fy.append(yf)\n",
    "bx.append(xb)\n",
    "by.append(yb)\n",
    "\n",
    "cnt = 0\n",
    "\n",
    "while (True):\n",
    "    cnt += 1\n",
    "    dist = np.sqrt((xb-xf)**2+(yb-yf)**2)\n",
    "    print(dist)\n",
    "    if (dist >= maxDist):\n",
    "        flag = False\n",
    "        print('Bomber escaped at step' + str(cnt))\n",
    "        break\n",
    "    elif (dist <= thresholdDist):\n",
    "        flag = True\n",
    "        print('Bomber caught at step ' + str(cnt))\n",
    "        break\n",
    "    else:\n",
    "        sinA, cosA = (yb-yf)/dist, (xb-xf)/dist\n",
    "        xf, yf = (xf+vf*cosA), (yf+vf*sinA)\n",
    "        xb, yb = np.random.randint(0, 1000, 2)\n",
    "        fx.append(xf)\n",
    "        fy.append(yf)\n",
    "        bx.append(xb)\n",
    "        by.append(yb)\n",
    "    "
   ]
  },
  {
   "cell_type": "code",
   "execution_count": 86,
   "id": "96425d4d",
   "metadata": {},
   "outputs": [
    {
     "data": {
      "image/png": "[encoded data removed]",
      "text/plain": [
       "<Figure size 432x288 with 1 Axes>"
      ]
     },
     "metadata": {
      "needs_background": "light"
     },
     "output_type": "display_data"
    }
   ],
   "source": [
    "plt.scatter(fx, fy)\n",
    "plt.scatter(bx, by)\n",
    "plt.xlabel('x axis')\n",
    "plt.ylabel('y axis')\n",
    "plt.title('Bomber Vs Fighter\\nBomber caugth =' + ('True' if flag == True else 'False') + ' at step ' + str(cnt))\n",
    "plt.legend(['Fighter', 'Bomber'], loc = 'best')\n",
    "plt.savefig('./m3c/Pure-Persuit-Problem.jpg')\n",
    "plt.show()"
   ]
  },
  {
   "cell_type": "code",
   "execution_count": null,
   "id": "63abadcd",
   "metadata": {},
   "outputs": [],
   "source": []
  }
 ],
 "metadata": {
  "kernelspec": {
   "display_name": "Python 3 (ipykernel)",
   "language": "python",
   "name": "python3"
  },
  "language_info": {
   "codemirror_mode": {
    "name": "ipython",
    "version": 3
   },
   "file_extension": ".py",
   "mimetype": "text/x-python",
   "name": "python",
   "nbconvert_exporter": "python",
   "pygments_lexer": "ipython3",
   "version": "3.9.12"
  }
 },
 "nbformat": 4,
 "nbformat_minor": 5
}
